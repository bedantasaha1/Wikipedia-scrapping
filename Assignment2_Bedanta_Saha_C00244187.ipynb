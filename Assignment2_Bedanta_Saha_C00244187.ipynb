{
 "cells": [
  {
   "cell_type": "code",
   "execution_count": null,
   "metadata": {},
   "outputs": [],
   "source": [
    "import pandas as pd"
   ]
  },
  {
   "cell_type": "code",
   "execution_count": null,
   "metadata": {},
   "outputs": [],
   "source": [
    "import requests"
   ]
  },
  {
   "cell_type": "code",
   "execution_count": null,
   "metadata": {},
   "outputs": [],
   "source": [
    "URL='https://en.wikipedia.org/wiki/List_of_Presidents_of_the_United_States'"
   ]
  },
  {
   "cell_type": "code",
   "execution_count": null,
   "metadata": {},
   "outputs": [],
   "source": [
    "r=requests.get(URL)"
   ]
  },
  {
   "cell_type": "code",
   "execution_count": null,
   "metadata": {},
   "outputs": [],
   "source": [
    "tbl= pd.read_html(r.text)"
   ]
  },
  {
   "cell_type": "markdown",
   "metadata": {},
   "source": [
    "### Now if we observe the wiki page we can realise we need the table(dataframe) which is having the maximum size"
   ]
  },
  {
   "cell_type": "code",
   "execution_count": null,
   "metadata": {},
   "outputs": [],
   "source": [
    "TableSizes=[] #initialising list of the sizes of the dataframes\n",
    "for i in range(len(tbl)):\n",
    "    print (tbl[i].size)\n",
    "    TableSizes.append(tbl[i].size) #provides sizes of the dataframes"
   ]
  },
  {
   "cell_type": "code",
   "execution_count": null,
   "metadata": {},
   "outputs": [],
   "source": [
    "#table=tbl[1]\n",
    "for i in range(len(tbl)):\n",
    "    if (tbl[i].size==max(TableSizes)): #looking which dataframe is having the max size\n",
    "        table=tbl[i] #storing the max sized dataframe of the page as 'table'"
   ]
  },
  {
   "cell_type": "code",
   "execution_count": null,
   "metadata": {},
   "outputs": [],
   "source": [
    "table"
   ]
  },
  {
   "cell_type": "markdown",
   "metadata": {},
   "source": [
    "## Question 8 : Express the number of Presidents for each party-type as a percentage of the total"
   ]
  },
  {
   "cell_type": "code",
   "execution_count": null,
   "metadata": {},
   "outputs": [],
   "source": [
    "q8=table[0][0] #As we can see the very 1st cell of the dataframe 'table' have all the required values"
   ]
  },
  {
   "cell_type": "code",
   "execution_count": null,
   "metadata": {},
   "outputs": [],
   "source": [
    "q8"
   ]
  },
  {
   "cell_type": "code",
   "execution_count": null,
   "metadata": {},
   "outputs": [],
   "source": [
    "q8=q8.split(\")\") #spliting partywise"
   ]
  },
  {
   "cell_type": "code",
   "execution_count": null,
   "metadata": {},
   "outputs": [],
   "source": [
    "q8"
   ]
  },
  {
   "cell_type": "code",
   "execution_count": null,
   "metadata": {},
   "outputs": [],
   "source": [
    "TimeList=[] #initialising list of numbers of president from each party\n",
    "for x in q8:\n",
    "    y=x.find('(')\n",
    "    if y != -1:\n",
    "        print(x[y+1:])\n",
    "        TimeList.append(x[y+1:]) #list of numbers of president from each party in string"
   ]
  },
  {
   "cell_type": "code",
   "execution_count": null,
   "metadata": {},
   "outputs": [],
   "source": [
    "TimeListNum=[]\n",
    "for x in TimeList:\n",
    "    y=int(x)\n",
    "    TimeListNum.append(y)#converting the elements of the list of numbers of president from each party to int"
   ]
  },
  {
   "cell_type": "code",
   "execution_count": null,
   "metadata": {},
   "outputs": [],
   "source": [
    "#TimeListNum=list(map(int,TimeList)) #Later I found I may have done this to shorten the code"
   ]
  },
  {
   "cell_type": "code",
   "execution_count": null,
   "metadata": {},
   "outputs": [],
   "source": [
    "PartyList=[]\n",
    "for x in q8:\n",
    "    y=x.find('(')\n",
    "    if y != -1:\n",
    "        print(x[:y])\n",
    "        PartyList.append(x[:y]) #list of the party names"
   ]
  },
  {
   "cell_type": "code",
   "execution_count": null,
   "metadata": {},
   "outputs": [],
   "source": [
    "q8_dict=dict(zip(PartyList,TimeListNum)) #dictionary with party name and the number of time of winning"
   ]
  },
  {
   "cell_type": "code",
   "execution_count": null,
   "metadata": {},
   "outputs": [],
   "source": [
    "print('Party Name','----','Percentage of presidents')\n",
    "s=sum(q8_dict.values())\n",
    "for k,v in q8_dict.items():\n",
    "    print(k ,'->',(v/s)*100,'%') #printing the required answer\n",
    "    \n"
   ]
  },
  {
   "cell_type": "markdown",
   "metadata": {},
   "source": [
    "## Question 5 : Identify the youngest serving President. At what age did they become President?"
   ]
  },
  {
   "cell_type": "code",
   "execution_count": null,
   "metadata": {},
   "outputs": [],
   "source": [
    "PresidentNameList=[] #initialising the list of the presidents' name\n",
    "DebutAgeList=[] #initialising the list of their debut age (i.e.: when they became presidents)\n",
    "for index,row in table.iterrows():\n",
    "        row[3]=str(row[3])\n",
    "        row[1]=str(row[1])\n",
    "        if row[3].find('–')!=-1 or row[3].find('Born')!=-1: #select the rows which is having president names\n",
    "            if row[3].find('Born')==-1: #for presidents who are not alive anymore\n",
    "                start=int(row[1][row[1].find(',')+1:row[1].find(',')+6]) #presidency start year\n",
    "                birth=int(row[3][row[3].find('–')-4:row[3].find('–')]) #Birth year\n",
    "                name=row[3][:row[3].find('–')-4] #cleaning and selecting the name \n",
    "                DebutAge=start-birth #Age while becoming president\n",
    "                PresidentNameList.append(name)\n",
    "                DebutAgeList.append(DebutAge)\n",
    "            else : #for presidents who are still alive\n",
    "                start=int(row[1][row[1].find(',')+1:row[1].find(',')+6])\n",
    "                birth=int(row[3][row[3].find('(')-4:row[3].find('(')])\n",
    "                name=row[3][:row[3].find('(')-9]\n",
    "                DebutAge=start-birth\n",
    "                PresidentNameList.append(name)\n",
    "                DebutAgeList.append(DebutAge)\n",
    "            print (name,'---',birth,'---',start,'---',DebutAge)"
   ]
  },
  {
   "cell_type": "code",
   "execution_count": null,
   "metadata": {},
   "outputs": [],
   "source": [
    "q5_dict=dict(zip(PresidentNameList,DebutAgeList)) #dictionary of presidents' name and their presidency starting age"
   ]
  },
  {
   "cell_type": "code",
   "execution_count": null,
   "metadata": {},
   "outputs": [],
   "source": [
    "m=min(q5_dict, key=q5_dict.get)#selecting who became president at minimum age\n",
    "print('Youngest President','-------','Age while becoming president') #printing the answer\n",
    "print(m,'-------->',q5_dict[m]) #printing the answer"
   ]
  },
  {
   "cell_type": "markdown",
   "metadata": {},
   "source": [
    "## Question 6 : Identify the oldest serving President. At what age did they leave office (die/resign/retire)?"
   ]
  },
  {
   "cell_type": "code",
   "execution_count": null,
   "metadata": {},
   "outputs": [],
   "source": [
    "import datetime"
   ]
  },
  {
   "cell_type": "code",
   "execution_count": null,
   "metadata": {},
   "outputs": [],
   "source": [
    "PresidentNameList=[] #initialising president name list(might have use the list from the previous question also)\n",
    "LastServeAgeList=[] # initialising the list of age at which they leave office\n",
    "for index,row in table.iterrows():\n",
    "        row[3]=str(row[3])\n",
    "        row[1]=str(row[1])\n",
    "        if row[3].find('–')!=-1 or row[3].find('Born')!=-1: #select the rows which is having president names\n",
    "            if row[3].find('Born')==-1: #for presidents who are not alive anymore\n",
    "                end=int(row[1][row[1].rfind(',')+1:row[1].rfind(',')+6]) #presidency end year\n",
    "                birth=int(row[3][row[3].find('–')-4:row[3].find('–')])#Birth year \n",
    "                name=row[3][:row[3].find('–')-4] #cleaning and selecting the name\n",
    "                LastServeAge=end-birth #Age while leaving office\n",
    "                PresidentNameList.append(name)\n",
    "                LastServeAgeList.append( LastServeAge)\n",
    "            else : #for presidents who are still alive\n",
    "                state=row[1][-9:] #to see whether someone is still working\n",
    "                if state!='Incumbent': #Who are still alive but leave the office\n",
    "                        end=int(row[1][row[1].rfind(',')+1:row[1].rfind(',')+6])\n",
    "                        birth=int(row[3][row[3].find('(')-4:row[3].find('(')])\n",
    "                        name=row[3][:row[3].find('(')-9]\n",
    "                        LastServeAge=end-birth\n",
    "                        PresidentNameList.append(name)\n",
    "                        LastServeAgeList.append( LastServeAge)\n",
    "                else: #for the president who is still incumbent\n",
    "                        end=int(datetime.datetime.today().year) #selecting the current year\n",
    "                        birth=int(row[3][row[3].find('(')-4:row[3].find('(')])\n",
    "                        name=row[3][:row[3].find('(')-9]\n",
    "                        LastServeAge=end-birth\n",
    "                        PresidentNameList.append(name)\n",
    "                        LastServeAgeList.append( LastServeAge)\n",
    "            print (name,'---',birth,'---',end,'---',LastServeAge)"
   ]
  },
  {
   "cell_type": "code",
   "execution_count": null,
   "metadata": {},
   "outputs": [],
   "source": [
    "q6_dict=dict(zip(PresidentNameList,LastServeAgeList)) #dictionary of president name and last serve age"
   ]
  },
  {
   "cell_type": "code",
   "execution_count": null,
   "metadata": {},
   "outputs": [],
   "source": [
    "m1=max(q6_dict, key=q6_dict.get) #Who leave office at maximum age\n",
    "print('President Name','-----','Office Leaving Age') #printing answer\n",
    "print(m1,'--->',q6_dict[m1])"
   ]
  },
  {
   "cell_type": "markdown",
   "metadata": {},
   "source": [
    "## Question 1 : How many Presidents died while in office?  Identify them by name, and provide the date of their death"
   ]
  },
  {
   "cell_type": "code",
   "execution_count": null,
   "metadata": {},
   "outputs": [],
   "source": [
    "print('Presidents who died in office','---','Death Date')\n",
    "count=0 #initialising count \n",
    "PresidentDiedInOfficeNameList=[] #initialising the list of president who died in office\n",
    "PresidentDiedInOfficeDateList=[] #initialising the death date list of president who died in office\n",
    "for index,row in table.iterrows():\n",
    "        row[3]=str(row[3])\n",
    "        row[1]=str(row[1])\n",
    "        if row[3].find('–')!=-1:#presidents who are not alive\n",
    "            if row[1].find('Died in office')!=-1: #searching the string 'Died in office' in 'Precidency' column of the table(according to the wiki page)\n",
    "                DeathDate=row[1][row[1].find('–')+1:row[1].find('(')] #cleaning and selecting death date\n",
    "                name=row[3][:row[3].find('–')-4] #cleaning and selecting naem\n",
    "                PresidentDiedInOfficeNameList.append(name)\n",
    "                PresidentDiedInOfficeDateList.append(DeathDate)\n",
    "                count+=1\n",
    "                print(name,'-->',DeathDate) \n",
    "print('Total',count,'presidents died in office')"
   ]
  },
  {
   "cell_type": "markdown",
   "metadata": {},
   "source": [
    "## Question 2 : How many Presidents resigned the presidency?  Identify them by name, and provide the date of their resignation"
   ]
  },
  {
   "cell_type": "code",
   "execution_count": null,
   "metadata": {},
   "outputs": [],
   "source": [
    "print('Presidents who resigned from presidency','---','Resignation Date')\n",
    "count=0 #initialising count \n",
    "PresidentResignedFromOfficeNameList=[] #initialising list of presidents who resigned presidency\n",
    "PresidentResignedFromeDateList=[] #initialising the list tof the resignation dates\n",
    "for index,row in table.iterrows():\n",
    "        row[3]=str(row[3])\n",
    "        row[1]=str(row[1])\n",
    "        if row[3].find('–')!=-1 or row[3].find('Born')!=-1:\n",
    "            if row[3].find('Born')==-1: #if resigned from office but not alive\n",
    "                if row[1].find('Resigned from office')!=-1: #searching the string 'Resigned from office' in 'Precidency' column of the table(according to the wiki page)\n",
    "                    ResignationDate=row[1][row[1].find('–')+1:row[1].find('(')] #selecting resignation date\n",
    "                    name=row[3][:row[3].find('–')-4]\n",
    "                    PresidentResignedFromOfficeNameList.append(name)\n",
    "                    PresidentResignedFromeDateList.append(ResignationDate)\n",
    "                    print(name,'----------------------------->',ResignationDate)\n",
    "                    count+=1\n",
    "            else: #if resigned from office but alive\n",
    "                if row[1].find('Resigned from office')!=-1:#searching the string 'Resigned from office' in 'Precidency' column of the table(according to the wiki page)\n",
    "                    ResignationDate=row[1][row[1].find('–')+1:row[1].find('(')] #selecting resignation date\n",
    "                    name=row[3][:row[3].find('(')-9]\n",
    "                    PresidentResignedFromOfficeNameList.append(name)\n",
    "                    PresidentResignedFromeDateList.append(ResignationDate)\n",
    "                    print(name,'----------------------------->',ResignationDate)\n",
    "                    count+=1\n",
    "print('Total',count,'presidents resigned from presidency')\n",
    "                "
   ]
  },
  {
   "cell_type": "markdown",
   "metadata": {},
   "source": [
    "## Question 7 : Identify the president who served the shortest term in office. How long was that term"
   ]
  },
  {
   "cell_type": "code",
   "execution_count": null,
   "metadata": {},
   "outputs": [],
   "source": [
    "import datetime #To use for the date and time related operation"
   ]
  },
  {
   "cell_type": "code",
   "execution_count": null,
   "metadata": {},
   "outputs": [],
   "source": [
    "import datefinder #At this stage I realised selecting date only as string won't be enough so imported datetime and datefinder"
   ]
  },
  {
   "cell_type": "code",
   "execution_count": null,
   "metadata": {},
   "outputs": [],
   "source": [
    "PresidentNameList=[] #initialising president name list(Previour list also could be used)\n",
    "ServedTermList=[] #initialising the list of the time span of their service as president\n",
    "for index,row in table.iterrows():\n",
    "        row[3]=str(row[3])\n",
    "        row[1]=str(row[1])\n",
    "        if row[3].find('–')!=-1 or row[3].find('Born')!=-1:\n",
    "            if row[3].find('Born')==-1:\n",
    "                d=list(datefinder.find_dates(row[1])) #selecting the two dates from the 'Presidency' column as list\n",
    "                start=d[0] #starting of presidency\n",
    "                end=d[1] #ending of presidency\n",
    "                name=row[3][:row[3].find('–')-4]\n",
    "                ServedTerm=end-start #presidency period\n",
    "                PresidentNameList.append(name)\n",
    "                ServedTermList.append(ServedTerm)\n",
    "            else :\n",
    "                state=row[1][-9:]\n",
    "                if state!='Incumbent':\n",
    "                        d=list(datefinder.find_dates(row[1]))\n",
    "                        start=d[0]\n",
    "                        end=d[1]\n",
    "                        name=row[3][:row[3].find('(')-9]\n",
    "                        ServedTerm=end-start\n",
    "                        PresidentNameList.append(name)\n",
    "                        ServedTermList.append(ServedTerm)\n",
    "                else:\n",
    "                        d=list(datefinder.find_dates(row[1]))\n",
    "                        start=d[0]\n",
    "                        end=datetime.datetime.now()\n",
    "                        name=row[3][:row[3].find('(')-9]\n",
    "                        ServedTerm=end-start\n",
    "                        PresidentNameList.append(name)\n",
    "                        ServedTermList.append(ServedTerm)\n",
    "            print (name,'::',start,'--',end,'-----',ServedTerm)\n",
    "        "
   ]
  },
  {
   "cell_type": "code",
   "execution_count": null,
   "metadata": {},
   "outputs": [],
   "source": [
    "q7_dict=dict(zip(PresidentNameList,ServedTermList)) #dictionary for president name and serving period/term"
   ]
  },
  {
   "cell_type": "code",
   "execution_count": null,
   "metadata": {},
   "outputs": [],
   "source": [
    "MinimumTerm=min(q7_dict, key=q7_dict.get) #selecting the minimum serving period\n",
    "#Note: In this whole code I have assumed if someone has been selected more than once as president\n",
    "#then he must not be president to serve the shortest term.\n",
    "print ('President who served the shortest term','-------','Term') #printing the answer\n",
    "print(MinimumTerm,'--------------------->',q7_dict[MinimumTerm])"
   ]
  },
  {
   "cell_type": "markdown",
   "metadata": {},
   "source": [
    "## Question 3 : How many Presidents previously held the office of Vice-President?  Identify them by name, and identify the name(s) of the President(s) they were Vice-President to.\n"
   ]
  },
  {
   "cell_type": "code",
   "execution_count": null,
   "metadata": {},
   "outputs": [],
   "source": [
    "PresidentViceNameList=[] #initialising list of presidents who also served as vice presidents\n",
    "for index,row in table.iterrows():\n",
    "        row[3]=str(row[3])\n",
    "        if row[3].find('–')!=-1 or row[3].find('Born')!=-1:\n",
    "            if row[3].find('Born')==-1: #for the presidents who are not alive\n",
    "                name=row[3][:row[3].find('–')-4] #president name\n",
    "                for index1, row1 in table.iterrows():\n",
    "                        row1[8]=str(row1[8])\n",
    "                        row1[0]=str(row1[0])\n",
    "                        row1[1]=str(row1[1])\n",
    "                        row1[2]=str(row1[2])\n",
    "                        #searching the name in the 'Vice President' column\n",
    "                        if (row1[8].find(name)!=-1 or row1[0].find(name)!=-1 or row1[1].find(name)!=-1 or row1[2].find(name)!=-1):\n",
    "                            PresidentViceNameList.append(name) \n",
    "            else: #for the president who are alive\n",
    "                name=row[3][:row[3].find('(')-9]\n",
    "                for index1, row1 in table.iterrows():\n",
    "                        #row1[8]=str(row1[8])\n",
    "                        #row1[1]=str(row1[1])\n",
    "                        #searching the name in the 'Vice President' column\n",
    "                        if (row1[8].find(name)!=-1 or row1[0].find(name)!=-1 or row1[1].find(name)!=-1 or row1[2].find(name)!=-1):\n",
    "                            PresidentViceNameList.append(name)\n",
    "print(PresidentViceNameList)"
   ]
  },
  {
   "cell_type": "code",
   "execution_count": null,
   "metadata": {},
   "outputs": [],
   "source": [
    "VicePresidentNamelist=[] #initialising another list of vice president who became president afterwards\n",
    "PrecidentForNameList=[] #initialisng list of president for whom they served when they were vice presidents\n",
    "for i in PresidentViceNameList:\n",
    "    name=i\n",
    "    for index1, row1 in table.iterrows():\n",
    "            row1[8]=str(row1[8])\n",
    "            row1[0]=str(row1[0])\n",
    "            row1[1]=str(row1[1])\n",
    "            row1[2]=str(row1[2])\n",
    "            row1[3]=str(row1[3])\n",
    "            if row1[8].find(name)!=-1: #if vice president name is in the 9th column of the pandas dataframe(table)\n",
    "                vp= name\n",
    "                if row1[3].find('Born')==-1: \n",
    "                    p= row1[3][:row1[3].find('–')-4]\n",
    "                else:\n",
    "                    p= row1[3][:row1[3].find('(')-9]\n",
    "                VicePresidentNamelist.append(vp)\n",
    "                PrecidentForNameList.append(p)\n",
    "            elif (row1[0].find(name)!=-1 or row1[1].find(name)!=-1 or row1[2].find(name)!=-1): #if vice president name is in the 1st,2nd or 3rd column of the pandas dataframe(table)\n",
    "                for x in reversed(range(index1)): #trying to search their president name in the previous rows\n",
    "                    if table[3][x].find('–')!=-1 or table[3][x].find('Born')!=-1:\n",
    "                        vp= name\n",
    "                        if row1[3].find('Born')==-1: \n",
    "                            p= table[3][x][:table[3][x].find('–')-4]\n",
    "                        else:\n",
    "                            p= table[3][x][:table[3][x].find('(')-9]\n",
    "                        VicePresidentNamelist.append(vp)\n",
    "                        PrecidentForNameList.append(p)\n",
    "                        break #when a president name found then going out of the loop"
   ]
  },
  {
   "cell_type": "code",
   "execution_count": null,
   "metadata": {},
   "outputs": [],
   "source": [
    "q3_dict=dict(zip(VicePresidentNamelist,PrecidentForNameList)) #Creating dictionary of the vice presidents and for which presidents they worked for"
   ]
  },
  {
   "cell_type": "code",
   "execution_count": null,
   "metadata": {},
   "outputs": [],
   "source": [
    "print('President who were vice president before and their presidents')\n",
    "print('Vice President','------------','President')\n",
    "for k,v in q3_dict.items():\n",
    "    print(k,'-------->',q3_dict[k])"
   ]
  },
  {
   "cell_type": "markdown",
   "metadata": {},
   "source": [
    "## Question 4 : Calculate the total amount of time (years and months) the office of Vice-President has been vacant since the formation of the republic.\n"
   ]
  },
  {
   "cell_type": "code",
   "execution_count": null,
   "metadata": {},
   "outputs": [],
   "source": [
    "#This function fetch two dates from a cell and return that.\n",
    "#Now if one date is not having mentioned year the 'datefinder' take it as the recent year but for some cases we required theat particular year.\n",
    "#Like: \"March 4 - April 15, 1853\" will be taken as March 4, 2018 - April 15, 1853 by only datefinder. This function is to make that proper as March 4,1853-April 15, 1853\n",
    "def properdate(s):\n",
    "    dt=list(datefinder.find_dates(s))\n",
    "    if dt[0].year==datetime.datetime.today().year:\n",
    "        i=s.find('–')\n",
    "        s1=s[:i]+','+str(dt[1].year)+s[i:]\n",
    "        dt1=list(datefinder.find_dates(s1))\n",
    "        return dt1[0],dt1[1]\n",
    "    else:\n",
    "        return dt[0],dt[1]"
   ]
  },
  {
   "cell_type": "code",
   "execution_count": null,
   "metadata": {},
   "outputs": [],
   "source": [
    "#This is a cleaning function where there is not space(or any dividor) between and uppercase and a lowercase \n",
    "#Like: 'William R. KingMarch 4-' will return 'William R. King|March 4'\n",
    "#This function helps datefinder to fetch date from a string\n",
    "def getindex(s):\n",
    "        for i, c in enumerate(s):\n",
    "                if c.isupper() and s[i-1].islower():\n",
    "                    s1=s[:i]+'|'+s[i:]\n",
    "                    return s1"
   ]
  },
  {
   "cell_type": "code",
   "execution_count": null,
   "metadata": {},
   "outputs": [],
   "source": [
    "#previous 'getindex' funtion return string if and only if it has a lowercase and uppercase adjacently\n",
    "#This function use 'getindex' and also return the original string if there is no lowercase and uppercase adjacently\n",
    "def BossOfGetindex(s):\n",
    "    store= getindex(s)\n",
    "    if type(store)==str:\n",
    "        return store\n",
    "    else:\n",
    "        return s"
   ]
  },
  {
   "cell_type": "code",
   "execution_count": null,
   "metadata": {},
   "outputs": [],
   "source": [
    "VacancyPeriod=datetime.timedelta(0) #initialising a timedelta for calculating total Vice president vacancy period\n",
    "for index,row in table.iterrows():\n",
    "        row[7]=str(row[7])\n",
    "        row[1]=str(row[1])\n",
    "        row[0]=str(row[0])\n",
    "        if row[7].find('Office vacant')!=-1:\n",
    "            v=list(datefinder.find_dates(row[7]))\n",
    "            if v==[]:\n",
    "                FindDate=list(datefinder.find_dates(row[1]))\n",
    "                print(FindDate[0],'--',FindDate[1])\n",
    "                VacancyPeriod = VacancyPeriod+(FindDate[1]-FindDate[0])\n",
    "            else:\n",
    "                FindDate=list(properdate(BossOfGetindex(row[7])))\n",
    "                print(FindDate[0],'--',FindDate[1])\n",
    "                _Period=FindDate[1]-FindDate[0]\n",
    "                VacancyPeriod = VacancyPeriod+(_Period)\n",
    "        if row[0].find('Office vacant')!=-1:\n",
    "            if list(datefinder.find_dates(str(table[8][index-1])))!=[]:\n",
    "                FindDate2=list(properdate(BossOfGetindex(str(table[1][index+1]))))\n",
    "                FindDate1=list(properdate(BossOfGetindex(str(table[8][index-1]))))\n",
    "                print(FindDate1[1],'--',FindDate2[0])\n",
    "                _Period=FindDate2[0]-FindDate1[1]\n",
    "                VacancyPeriod = VacancyPeriod+(_Period)\n",
    "            else:\n",
    "                v=list(datefinder.find_dates(row[0]))\n",
    "                if v==[]:\n",
    "                    FindDate1=list(properdate(BossOfGetindex(str(table[1][index-1]))))\n",
    "                    FindDate2=list(properdate(BossOfGetindex(str(table[1][index+1]))))\n",
    "                    print(FindDate1[1],'--',FindDate2[0])\n",
    "                    _Period=FindDate2[0]-FindDate1[1]\n",
    "                    VacancyPeriod = VacancyPeriod+(_Period)\n",
    "                else:\n",
    "                    FindDate=list(properdate(BossOfGetindex(row[0])))\n",
    "                    print(FindDate[0],'--',FindDate[1])\n",
    "                    _Period=FindDate[1]-FindDate[0]\n",
    "                    VacancyPeriod = VacancyPeriod+(_Period)"
   ]
  },
  {
   "cell_type": "code",
   "execution_count": null,
   "metadata": {},
   "outputs": [],
   "source": [
    "VacancyPeriod"
   ]
  },
  {
   "cell_type": "code",
   "execution_count": null,
   "metadata": {},
   "outputs": [],
   "source": [
    "VacancyPeriodDays=VacancyPeriod.days #converting VacancyPeriod from datetime.timedelta to int"
   ]
  },
  {
   "cell_type": "code",
   "execution_count": null,
   "metadata": {},
   "outputs": [],
   "source": [
    "VacancyPeriodDays"
   ]
  },
  {
   "cell_type": "code",
   "execution_count": null,
   "metadata": {},
   "outputs": [],
   "source": [
    "#This function takes any number of days as int and return the number of years, moths and days \n",
    "def YearMonthDaysCalculator(i):\n",
    "    k=(365*3)+366 #to consider the leapyear\n",
    "    if (i>=k):\n",
    "        Year=((i//k)*4) + ((i%k)//365)\n",
    "        Month=((i%k)%365)//30\n",
    "        Days=((i%k)%365)%30\n",
    "        print(Year,'years',Month,'months',Days,'days')\n",
    "    else:\n",
    "        Year=i//365\n",
    "        Month=(i%365)//30\n",
    "        Days=(i%365)%30\n",
    "        print(Year,'years',Month,'months',Days,'days')"
   ]
  },
  {
   "cell_type": "code",
   "execution_count": null,
   "metadata": {},
   "outputs": [],
   "source": [
    "print('Vice president office has been vacant for total:')\n",
    "YearMonthDaysCalculator(VacancyPeriodDays)"
   ]
  },
  {
   "cell_type": "markdown",
   "metadata": {},
   "source": [
    "## Question 9 : Categorize the Presidents by US state (i.e., place-of-birth)"
   ]
  },
  {
   "cell_type": "code",
   "execution_count": null,
   "metadata": {},
   "outputs": [],
   "source": [
    "URLlist=[] #initialising a list to store the URL for each president's wiki page\n",
    "NameList=[] #initialising a list of president(previous president list could be used)\n",
    "StateList=[] #initialising a list of the birth state (draft) for each president\n",
    "for index,row in table.iterrows():\n",
    "    row[3]=str(row[3])\n",
    "    if row[3].find('–')!=-1 or row[3].find('Born')!=-1:\n",
    "        if row[3].find('Born')==-1: #For the presidents who are not alive\n",
    "            name=row[3][:row[3].find('–')-4]\n",
    "            NameList.append(name)\n",
    "            URL='https://en.wikipedia.org/wiki/'+ name.replace(' ','_') #creating the URL for president's wiki page\n",
    "            print(URL)\n",
    "            URLlist.append(URL)\n",
    "            r=requests.get(URL)\n",
    "            table= pd.read_html(r.text)\n",
    "            #Next for loop is to programatically select the particular table,\n",
    "            #which is having their birth place details,from each president's wiki page\n",
    "            for i in range(len(table)):\n",
    "                if (table[i][0][0]== name):\n",
    "                    requiredTable=table[i]\n",
    "            for index, row in requiredTable.iterrows():\n",
    "                row[0]=str(row[0])\n",
    "                row[1]=str(row[1])\n",
    "                if row[0]=='Born': #To go to the row to get their birth place\n",
    "                    i=row[1].rfind(',')\n",
    "                    _temp=row[1][0:i]\n",
    "                    _temp1=row[1][i+2:]\n",
    "                    if _temp1.find('U.S.')!=-1 or _temp1.find('British America')!=-1:\n",
    "                        j=_temp.rfind(',')\n",
    "                        State=_temp[j+2:]\n",
    "                    else:#for some president country name(U.S./British America) is not written in their birth place\n",
    "                        State=_temp1\n",
    "                    StateList.append(State)\n",
    "        else: #for the president who are still alive\n",
    "            name=row[3][:row[3].find('(')-9]\n",
    "            NameList.append(name)\n",
    "            URL='https://en.wikipedia.org/wiki/'+ name.replace(' ','_')\n",
    "            print(URL)\n",
    "            URLlist.append(URL)\n",
    "            r=requests.get(URL)\n",
    "            table= pd.read_html(r.text)\n",
    "            for i in range(len(table)):\n",
    "                if (table[i][0][0]== name):\n",
    "                    requiredTable=table[i]\n",
    "            for index, row in requiredTable.iterrows():\n",
    "                row[0]=str(row[0])\n",
    "                row[1]=str(row[1])\n",
    "                if row[0]=='Born':\n",
    "                    i=row[1].rfind(',')\n",
    "                    _temp=row[1][0:i]\n",
    "                    _temp1=row[1][i+2:]\n",
    "                    if _temp1.find('U.S.')!=-1 or _temp1.find('British America')!=-1:\n",
    "                        j=_temp.rfind(',')\n",
    "                        State=_temp[j+2:]\n",
    "                    else:\n",
    "                        State=_temp1\n",
    "                    StateList.append(State)"
   ]
  },
  {
   "cell_type": "code",
   "execution_count": null,
   "metadata": {},
   "outputs": [],
   "source": [
    "StateDict=dict(zip(NameList,StateList)) #creating a dictionary of president and their birth state(draft)"
   ]
  },
  {
   "cell_type": "code",
   "execution_count": null,
   "metadata": {},
   "outputs": [],
   "source": [
    "StateDict"
   ]
  },
  {
   "cell_type": "code",
   "execution_count": null,
   "metadata": {},
   "outputs": [],
   "source": [
    "import numpy as np"
   ]
  },
  {
   "cell_type": "markdown",
   "metadata": {},
   "source": [
    "### Please install the module \"wikipedia\" by doing \"pip install wikipedia\""
   ]
  },
  {
   "cell_type": "code",
   "execution_count": null,
   "metadata": {},
   "outputs": [],
   "source": [
    "import wikipedia #importing this module to go to (search) the wiki page to get the total list of the states of U.S."
   ]
  },
  {
   "cell_type": "code",
   "execution_count": null,
   "metadata": {},
   "outputs": [],
   "source": [
    "SearchList=wikipedia.page('list of states of U.S.')"
   ]
  },
  {
   "cell_type": "code",
   "execution_count": null,
   "metadata": {},
   "outputs": [],
   "source": [
    "SearchList #relavent search result"
   ]
  },
  {
   "cell_type": "code",
   "execution_count": null,
   "metadata": {},
   "outputs": [],
   "source": [
    "URL=SearchList.url #URL of the page"
   ]
  },
  {
   "cell_type": "code",
   "execution_count": null,
   "metadata": {},
   "outputs": [],
   "source": [
    "URL"
   ]
  },
  {
   "cell_type": "code",
   "execution_count": null,
   "metadata": {},
   "outputs": [],
   "source": [
    "r=requests.get(URL)"
   ]
  },
  {
   "cell_type": "code",
   "execution_count": null,
   "metadata": {},
   "outputs": [],
   "source": [
    "tbl1= pd.read_html(r.text)"
   ]
  },
  {
   "cell_type": "code",
   "execution_count": null,
   "metadata": {},
   "outputs": [],
   "source": [
    "#Now to programatically select which table is having the list of the states:\n",
    "#It is observed that the required table has 13 columns in the page\n",
    "#And we know there are total 50 states in U.S.\n",
    "#So we have taken the table which is having the nearest greater size value than (50*13)\n",
    "DifferenceList=[] #initialising a list of the difference between table size and (50*13)\n",
    "for i in range(len(tbl)):\n",
    "    j=tbl1[i].size-(50*13)\n",
    "    if (j<0):\n",
    "        j=1000 #just if the difference is negative then it is set to large number (i.e. 1000)\n",
    "    else:\n",
    "        j=tbl1[i].size-(50*13)\n",
    "    print(j)\n",
    "    print('----')\n",
    "    DifferenceList.append(j)"
   ]
  },
  {
   "cell_type": "code",
   "execution_count": null,
   "metadata": {},
   "outputs": [],
   "source": [
    "k=DifferenceList.index(min(DifferenceList))"
   ]
  },
  {
   "cell_type": "code",
   "execution_count": null,
   "metadata": {},
   "outputs": [],
   "source": [
    "table1=tbl1[k]"
   ]
  },
  {
   "cell_type": "code",
   "execution_count": null,
   "metadata": {},
   "outputs": [],
   "source": [
    "table1"
   ]
  },
  {
   "cell_type": "code",
   "execution_count": null,
   "metadata": {},
   "outputs": [],
   "source": [
    "CorrectStateList=[] #initialising a list to clean and store all the states of U.S.\n",
    "for index, row in table1.iterrows():\n",
    "    row[0]=str(row[0])\n",
    "    if np.isnan(row[10])!=True: #to remove the headers of the table\n",
    "        state=row[0]\n",
    "        print(index-1,'---',state)\n",
    "        CorrectStateList.append(state)"
   ]
  },
  {
   "cell_type": "code",
   "execution_count": null,
   "metadata": {},
   "outputs": [],
   "source": [
    "NewStateList=StateList.copy() #copying the StateList to NewSateList (for safety)\n",
    "#To clean the draft state list and make the presidents birth state list according to the recent names of the states"
   ]
  },
  {
   "cell_type": "code",
   "execution_count": null,
   "metadata": {},
   "outputs": [],
   "source": [
    "#Cleaning of the toatal list of the states of U.S.\n",
    "for i,j in enumerate(CorrectStateList): \n",
    "    if j.find('[E]')!=-1:\n",
    "        CorrectStateList[i]=j.replace('[E]','')\n",
    "    if j.find('[F]')!=-1:\n",
    "        CorrectStateList[i]=j.replace('[F]','')"
   ]
  },
  {
   "cell_type": "code",
   "execution_count": null,
   "metadata": {},
   "outputs": [],
   "source": [
    "#Cleaning and storing the recent state name in NewStateList\n",
    "for i,v in enumerate(NewStateList):\n",
    "    for j in CorrectStateList:\n",
    "        if v.find(j)!=-1:\n",
    "            NewStateList[i]=j\n",
    "            "
   ]
  },
  {
   "cell_type": "code",
   "execution_count": null,
   "metadata": {},
   "outputs": [],
   "source": [
    "NewStateList"
   ]
  },
  {
   "cell_type": "code",
   "execution_count": null,
   "metadata": {},
   "outputs": [],
   "source": [
    "#StateCompareDict=dict(zip(StateList,NewStateList))"
   ]
  },
  {
   "cell_type": "code",
   "execution_count": null,
   "metadata": {},
   "outputs": [],
   "source": [
    "#StateCompareDict"
   ]
  },
  {
   "cell_type": "code",
   "execution_count": null,
   "metadata": {},
   "outputs": [],
   "source": [
    "NewStateDict=dict(zip(NameList,NewStateList)) #creating a dictioanry of President and their birth state"
   ]
  },
  {
   "cell_type": "code",
   "execution_count": null,
   "metadata": {},
   "outputs": [],
   "source": [
    "print('President','-----------','Birth State') \n",
    "for k,v in NewStateDict.items():\n",
    "    print(k,'-------',v)"
   ]
  },
  {
   "cell_type": "code",
   "execution_count": null,
   "metadata": {},
   "outputs": [],
   "source": [
    "VeryNewStateDict=NewStateDict.copy()"
   ]
  },
  {
   "cell_type": "code",
   "execution_count": null,
   "metadata": {},
   "outputs": [],
   "source": [
    "#Creating a dictionary to categorize the presidents by U.S. states\n",
    "StatePresidentCategory={}\n",
    "for k, v in sorted(VeryNewStateDict.items()):\n",
    "    StatePresidentCategory.setdefault(v,[]).append(k)"
   ]
  },
  {
   "cell_type": "code",
   "execution_count": null,
   "metadata": {},
   "outputs": [],
   "source": [
    "#Printing Answer\n",
    "print('Statewise (Birth place wise) categorization of Presidents')\n",
    "print('State','-------------','Presidents')\n",
    "for k,v in StatePresidentCategory.items():\n",
    "    print(k,'-----',v)"
   ]
  },
  {
   "cell_type": "markdown",
   "metadata": {},
   "source": [
    "## Question 10 : Identify which state has produced the most Presidents."
   ]
  },
  {
   "cell_type": "code",
   "execution_count": null,
   "metadata": {},
   "outputs": [],
   "source": [
    "from collections import Counter "
   ]
  },
  {
   "cell_type": "code",
   "execution_count": null,
   "metadata": {},
   "outputs": [],
   "source": [
    "NumberOfPresident= Counter(NewStateDict[k] for k in NewStateDict) #creating a counter to count the states"
   ]
  },
  {
   "cell_type": "code",
   "execution_count": null,
   "metadata": {},
   "outputs": [],
   "source": [
    "#calculating the most occurance and printing answer\n",
    "print('The state which has produced the most presidents:') \n",
    "NumberOfPresident.most_common(1)"
   ]
  },
  {
   "cell_type": "markdown",
   "metadata": {},
   "source": [
    "## Question 11 : dentify those state(s) which have produced only one President"
   ]
  },
  {
   "cell_type": "code",
   "execution_count": null,
   "metadata": {},
   "outputs": [],
   "source": [
    "DictNumberOfPresident= dict(NumberOfPresident) #dictionary of the counter of 'NumberOfPresident'"
   ]
  },
  {
   "cell_type": "code",
   "execution_count": null,
   "metadata": {},
   "outputs": [],
   "source": [
    "DictNumberOfPresident"
   ]
  },
  {
   "cell_type": "code",
   "execution_count": null,
   "metadata": {},
   "outputs": [],
   "source": [
    "print('State(s) which have produced only one President:')\n",
    "for k,v in DictNumberOfPresident.items():\n",
    "    if v==1:\n",
    "        print(k)"
   ]
  },
  {
   "cell_type": "markdown",
   "metadata": {},
   "source": [
    "## Question 12 : Provide a list of States which have never produced a President"
   ]
  },
  {
   "cell_type": "code",
   "execution_count": null,
   "metadata": {},
   "outputs": [],
   "source": [
    "len(CorrectStateList)"
   ]
  },
  {
   "cell_type": "code",
   "execution_count": null,
   "metadata": {},
   "outputs": [],
   "source": [
    "len(NewStateList)"
   ]
  },
  {
   "cell_type": "code",
   "execution_count": null,
   "metadata": {},
   "outputs": [],
   "source": [
    "NewStateListSet=set(NewStateList) #creating a set from NewStateList to see the distict states which have produced Presidents"
   ]
  },
  {
   "cell_type": "code",
   "execution_count": null,
   "metadata": {},
   "outputs": [],
   "source": [
    "len(NewStateListSet)"
   ]
  },
  {
   "cell_type": "code",
   "execution_count": null,
   "metadata": {},
   "outputs": [],
   "source": [
    "ZeroPresidentList=[] #initialising a list of states which never produced a President\n",
    "for i in CorrectStateList:\n",
    "    f=0 #setting f=0\n",
    "    for j in NewStateList:\n",
    "        if i==j:\n",
    "            f=1 #if a state has produced President then set f=1\n",
    "    if f!=1: #if the state never produced a President then 'f' is not set at 1 (f=0)\n",
    "        ZeroPresidentList.append(i)\n",
    "        f=0 #set f to 0 "
   ]
  },
  {
   "cell_type": "code",
   "execution_count": null,
   "metadata": {},
   "outputs": [],
   "source": [
    "print('List of States which have never produced a President')\n",
    "ZeroPresidentList"
   ]
  },
  {
   "cell_type": "code",
   "execution_count": null,
   "metadata": {},
   "outputs": [],
   "source": [
    "len(NewStateListSet) + len(ZeroPresidentList) == len(CorrectStateList) #just for cross checking"
   ]
  }
 ],
 "metadata": {
  "kernelspec": {
   "display_name": "Python 3",
   "language": "python",
   "name": "python3"
  },
  "language_info": {
   "codemirror_mode": {
    "name": "ipython",
    "version": 3
   },
   "file_extension": ".py",
   "mimetype": "text/x-python",
   "name": "python",
   "nbconvert_exporter": "python",
   "pygments_lexer": "ipython3",
   "version": "3.6.6"
  }
 },
 "nbformat": 4,
 "nbformat_minor": 2
}
